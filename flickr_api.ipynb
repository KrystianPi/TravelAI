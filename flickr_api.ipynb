{
 "cells": [
  {
   "cell_type": "code",
   "execution_count": 1,
   "metadata": {},
   "outputs": [],
   "source": [
    "import flickrapi\n",
    "import json\n",
    "import time"
   ]
  },
  {
   "cell_type": "code",
   "execution_count": 27,
   "metadata": {},
   "outputs": [
    {
     "data": {
      "text/plain": [
       "['config.ini']"
      ]
     },
     "execution_count": 27,
     "metadata": {},
     "output_type": "execute_result"
    }
   ],
   "source": [
    "import configparser\n",
    "\n",
    "config = configparser.ConfigParser()\n",
    "config.read('config.ini')"
   ]
  },
  {
   "cell_type": "code",
   "execution_count": 3,
   "metadata": {},
   "outputs": [],
   "source": [
    "api_key = config['API']['API_KEY']\n",
    "api_secret = config['API']['API_SECRET']"
   ]
  },
  {
   "cell_type": "code",
   "execution_count": 4,
   "metadata": {},
   "outputs": [
    {
     "name": "stderr",
     "output_type": "stream",
     "text": [
      "127.0.0.1 - - [24/Sep/2023 16:09:22] \"GET /?oauth_token=72157720894942417-6b85918f92008024&oauth_verifier=3bdd5f2525a634cc HTTP/1.1\" 200 -\n"
     ]
    }
   ],
   "source": [
    "flickr = flickrapi.FlickrAPI(api_key, api_secret, format='json')\n",
    "flickr.authenticate_via_browser(perms='read')   "
   ]
  },
  {
   "cell_type": "code",
   "execution_count": 28,
   "metadata": {},
   "outputs": [],
   "source": [
    "latitude = config['LOC']['LATITUDE']\n",
    "longitude = config['LOC']['LONGITUDE']"
   ]
  },
  {
   "cell_type": "code",
   "execution_count": 29,
   "metadata": {},
   "outputs": [
    {
     "name": "stdout",
     "output_type": "stream",
     "text": [
      "Latitude in Decimal Degrees: 41.8932408\n",
      "Longitude in Decimal Degrees: 12.482981487083691\n"
     ]
    }
   ],
   "source": [
    "from geopy.geocoders import Nominatim\n",
    "\n",
    "# Initialize the geocoder\n",
    "geolocator = Nominatim(user_agent=\"my_geocoder\")\n",
    "\n",
    "location = geolocator.geocode(f\"{latitude} {longitude}\")\n",
    "latitude_dd = location.latitude\n",
    "longitude_dd = location.longitude\n",
    "\n",
    "print(f\"Latitude in Decimal Degrees: {latitude_dd}\")\n",
    "print(f\"Longitude in Decimal Degrees: {longitude_dd}\")"
   ]
  },
  {
   "cell_type": "code",
   "execution_count": 30,
   "metadata": {},
   "outputs": [],
   "source": [
    "shots = flickr.photos.search(has_geo=\"1\", extras=\"geo, owner_name\", privacy_filter=\"1\", per_page=\"50\",\n",
    "                             radius_units=\"km\", radius=20, lat=latitude_dd, lon=longitude_dd)\n",
    "parsed = json.loads(shots.decode('utf-8'))"
   ]
  },
  {
   "cell_type": "code",
   "execution_count": 32,
   "metadata": {},
   "outputs": [
    {
     "data": {
      "text/plain": [
       "[{'id': '53208732903',\n",
       "  'owner': '21254518@N06',\n",
       "  'secret': '1d12dfb7ca',\n",
       "  'server': '65535',\n",
       "  'farm': 66,\n",
       "  'title': 'Europe-20230830-10361',\n",
       "  'ispublic': 1,\n",
       "  'isfriend': 0,\n",
       "  'isfamily': 0,\n",
       "  'ownername': 'Sunil Mishra',\n",
       "  'latitude': '41.902279',\n",
       "  'longitude': '12.457597',\n",
       "  'accuracy': '16',\n",
       "  'context': 0,\n",
       "  'place_id': '',\n",
       "  'woeid': '11002475',\n",
       "  'geo_is_public': 1,\n",
       "  'geo_is_contact': 0,\n",
       "  'geo_is_friend': 0,\n",
       "  'geo_is_family': 0},\n",
       " {'id': '53208428741',\n",
       "  'owner': '21254518@N06',\n",
       "  'secret': 'd3dbfebe1c',\n",
       "  'server': '65535',\n",
       "  'farm': 66,\n",
       "  'title': 'Europe-20230830-10353',\n",
       "  'ispublic': 1,\n",
       "  'isfriend': 0,\n",
       "  'isfamily': 0,\n",
       "  'ownername': 'Sunil Mishra',\n",
       "  'latitude': '41.905166',\n",
       "  'longitude': '12.455644',\n",
       "  'accuracy': '16',\n",
       "  'context': 0,\n",
       "  'place_id': '',\n",
       "  'woeid': '6691831',\n",
       "  'geo_is_public': 1,\n",
       "  'geo_is_contact': 0,\n",
       "  'geo_is_friend': 0,\n",
       "  'geo_is_family': 0},\n",
       " {'id': '53208936250',\n",
       "  'owner': '21254518@N06',\n",
       "  'secret': '65787d53a2',\n",
       "  'server': '65535',\n",
       "  'farm': 66,\n",
       "  'title': 'Europe-20230830-10315',\n",
       "  'ispublic': 1,\n",
       "  'isfriend': 0,\n",
       "  'isfamily': 0,\n",
       "  'ownername': 'Sunil Mishra',\n",
       "  'latitude': '41.906307',\n",
       "  'longitude': '12.453876',\n",
       "  'accuracy': '16',\n",
       "  'context': 0,\n",
       "  'place_id': '',\n",
       "  'woeid': '6691831',\n",
       "  'geo_is_public': 1,\n",
       "  'geo_is_contact': 0,\n",
       "  'geo_is_friend': 0,\n",
       "  'geo_is_family': 0},\n",
       " {'id': '53208806394',\n",
       "  'owner': '21254518@N06',\n",
       "  'secret': '060622377b',\n",
       "  'server': '65535',\n",
       "  'farm': 66,\n",
       "  'title': 'Europe-20230830-10309',\n",
       "  'ispublic': 1,\n",
       "  'isfriend': 0,\n",
       "  'isfamily': 0,\n",
       "  'ownername': 'Sunil Mishra',\n",
       "  'latitude': '41.906307',\n",
       "  'longitude': '12.453876',\n",
       "  'accuracy': '16',\n",
       "  'context': 0,\n",
       "  'place_id': '',\n",
       "  'woeid': '6691831',\n",
       "  'geo_is_public': 1,\n",
       "  'geo_is_contact': 0,\n",
       "  'geo_is_friend': 0,\n",
       "  'geo_is_family': 0},\n",
       " {'id': '53208728353',\n",
       "  'owner': '21254518@N06',\n",
       "  'secret': 'f06077d24e',\n",
       "  'server': '65535',\n",
       "  'farm': 66,\n",
       "  'title': 'Europe-20230830-10306',\n",
       "  'ispublic': 1,\n",
       "  'isfriend': 0,\n",
       "  'isfamily': 0,\n",
       "  'ownername': 'Sunil Mishra',\n",
       "  'latitude': '41.906307',\n",
       "  'longitude': '12.453876',\n",
       "  'accuracy': '16',\n",
       "  'context': 0,\n",
       "  'place_id': '',\n",
       "  'woeid': '6691831',\n",
       "  'geo_is_public': 1,\n",
       "  'geo_is_contact': 0,\n",
       "  'geo_is_friend': 0,\n",
       "  'geo_is_family': 0},\n",
       " {'id': '53208727193',\n",
       "  'owner': '21254518@N06',\n",
       "  'secret': 'b14fa738bd',\n",
       "  'server': '65535',\n",
       "  'farm': 66,\n",
       "  'title': 'Europe-20230830-10301',\n",
       "  'ispublic': 1,\n",
       "  'isfriend': 0,\n",
       "  'isfamily': 0,\n",
       "  'ownername': 'Sunil Mishra',\n",
       "  'latitude': '41.906307',\n",
       "  'longitude': '12.453876',\n",
       "  'accuracy': '16',\n",
       "  'context': 0,\n",
       "  'place_id': '',\n",
       "  'woeid': '6691831',\n",
       "  'geo_is_public': 1,\n",
       "  'geo_is_contact': 0,\n",
       "  'geo_is_friend': 0,\n",
       "  'geo_is_family': 0},\n",
       " {'id': '53208726943',\n",
       "  'owner': '21254518@N06',\n",
       "  'secret': 'c077e38827',\n",
       "  'server': '65535',\n",
       "  'farm': 66,\n",
       "  'title': 'Europe-20230830-10300',\n",
       "  'ispublic': 1,\n",
       "  'isfriend': 0,\n",
       "  'isfamily': 0,\n",
       "  'ownername': 'Sunil Mishra',\n",
       "  'latitude': '41.906307',\n",
       "  'longitude': '12.453876',\n",
       "  'accuracy': '16',\n",
       "  'context': 0,\n",
       "  'place_id': '',\n",
       "  'woeid': '6691831',\n",
       "  'geo_is_public': 1,\n",
       "  'geo_is_contact': 0,\n",
       "  'geo_is_friend': 0,\n",
       "  'geo_is_family': 0},\n",
       " {'id': '53208724553',\n",
       "  'owner': '21254518@N06',\n",
       "  'secret': '5d99b4f238',\n",
       "  'server': '65535',\n",
       "  'farm': 66,\n",
       "  'title': 'Europe-20230830-10278',\n",
       "  'ispublic': 1,\n",
       "  'isfriend': 0,\n",
       "  'isfamily': 0,\n",
       "  'ownername': 'Sunil Mishra',\n",
       "  'latitude': '41.890278',\n",
       "  'longitude': '12.487920',\n",
       "  'accuracy': '16',\n",
       "  'context': 0,\n",
       "  'place_id': '',\n",
       "  'woeid': '6545149',\n",
       "  'geo_is_public': 1,\n",
       "  'geo_is_contact': 0,\n",
       "  'geo_is_friend': 0,\n",
       "  'geo_is_family': 0},\n",
       " {'id': '53208922710',\n",
       "  'owner': '21254518@N06',\n",
       "  'secret': '9b6ce65e48',\n",
       "  'server': '65535',\n",
       "  'farm': 66,\n",
       "  'title': 'Europe-20230830-53',\n",
       "  'ispublic': 1,\n",
       "  'isfriend': 0,\n",
       "  'isfamily': 0,\n",
       "  'ownername': 'Sunil Mishra',\n",
       "  'latitude': '41.890613',\n",
       "  'longitude': '12.491297',\n",
       "  'accuracy': '16',\n",
       "  'context': 0,\n",
       "  'place_id': '',\n",
       "  'woeid': '6545149',\n",
       "  'geo_is_public': 1,\n",
       "  'geo_is_contact': 0,\n",
       "  'geo_is_friend': 0,\n",
       "  'geo_is_family': 0},\n",
       " {'id': '4418903013',\n",
       "  'owner': '35155107@N08',\n",
       "  'secret': '796c37a96a',\n",
       "  'server': '65535',\n",
       "  'farm': 66,\n",
       "  'title': \"1750 ca 1910 Colosseo dall'interno\",\n",
       "  'ispublic': 1,\n",
       "  'isfriend': 0,\n",
       "  'isfamily': 0,\n",
       "  'ownername': 'Alvaro ed Elisabetta de Alvariis',\n",
       "  'latitude': '41.890248',\n",
       "  'longitude': '12.492278',\n",
       "  'accuracy': '16',\n",
       "  'context': 0,\n",
       "  'place_id': 'FphPyURWU7ux6h4',\n",
       "  'woeid': '711883',\n",
       "  'geo_is_public': 1,\n",
       "  'geo_is_contact': 0,\n",
       "  'geo_is_friend': 0,\n",
       "  'geo_is_family': 0}]"
      ]
     },
     "execution_count": 32,
     "metadata": {},
     "output_type": "execute_result"
    }
   ],
   "source": [
    "parsed['photos']['photo'][:10]"
   ]
  }
 ],
 "metadata": {
  "kernelspec": {
   "display_name": "Python 3",
   "language": "python",
   "name": "python3"
  },
  "language_info": {
   "codemirror_mode": {
    "name": "ipython",
    "version": 3
   },
   "file_extension": ".py",
   "mimetype": "text/x-python",
   "name": "python",
   "nbconvert_exporter": "python",
   "pygments_lexer": "ipython3",
   "version": "3.10.12"
  },
  "orig_nbformat": 4
 },
 "nbformat": 4,
 "nbformat_minor": 2
}
