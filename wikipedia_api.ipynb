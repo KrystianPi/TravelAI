{
 "cells": [
  {
   "cell_type": "code",
   "execution_count": 1,
   "metadata": {},
   "outputs": [],
   "source": [
    "import wikipediaapi"
   ]
  },
  {
   "cell_type": "code",
   "execution_count": 12,
   "metadata": {},
   "outputs": [],
   "source": [
    "wiki = wikipediaapi.Wikipedia(user_agent=\"krystek.pietrzak@gmail.com\", language='en', extract_format=wikipediaapi.ExtractFormat.WIKI)"
   ]
  },
  {
   "cell_type": "code",
   "execution_count": 14,
   "metadata": {},
   "outputs": [
    {
     "name": "stdout",
     "output_type": "stream",
     "text": [
      "Page - Exists: True\n"
     ]
    },
    {
     "data": {
      "text/plain": [
       "'Sallustiano is the 17th rione of Rome, identified by the initials R. XVII. It is located within the Municipio I and the name refers to the ancient Gardens of Sallust (Horti Sallustiani), which were located here.\\n\\nHistory\\nDuring the Augustan age, the area belonged to the regio Alta Semita (Latin for \"high pathway\"). \\nHere were the Horti Sallustiani, which gave the rione its name, and the Temple of Venus Erycina, in the area between Via Piave and Via Calabria, no less important than the villa of Sallust, to the point that the golden mirror of the goddess on a blue background was chosen as the coat of arms of the rione.\\nThe famous Ludovisi Throne, found during the urbanization works in the area, was most likely part of the temple.\\nBetween Via Flavia and Via Servio Tullio stood the temple dedicated to the goddess Fortuna, while the circus of Flora was probably located between Via XX Settembre and Via Boncompagni. The Sallustian obelisk, found in the area of the Horti Sallustiani and now in Piazza della Trinità dei Monti, was not part of the spina of the circus, but more likely it adorned a private hippodrome of the villa of Sallust.\\nVia Piave follows the route of the former Via Salaria Nova, which exited from Porta Collina in the direction of the demolished Porta Salaria. Near the street there was an important stately sepulchral area, which included the funerary monument to Sulpicius Maximus, today in the center of Piazza Fiume, and that of Cornelia, currently close to the walls in Corso Italia.\\nIn AD 410 the Visigoths of Alaric cut the aqueducts and plundered the villa of Sallust, which was reduced to a pile of rubble and definitively abandoned. Due to the consequent lack of water, the area between the Pincian and the Quirinal hill became depopulated.\\nA slight recovery of the rione was promoted in the 16th century by Sixtus V, with the opening of the new Via Pia and the return of the water to the area, thanks to the restoration of an aqueduct, the Acquedotto Felice (named after the Pope himself, whose name was Felice). Furthermore, in 1608 the cardinal Scipione Borghese promoted at his own expense the construction of a beautiful church: Santa Maria della Vittoria.\\nNonetheless the rione, which was then part of Trevi, continued to be sparsely populated, with vast green areas due to the presence of large villas such as Villa Barberini, on the current Via XX Settembre, Villa Mandosi, on Via Boncompagni, and Villa Cicciaporci, between Via Pia, the Aurelian Walls up to Porta Salaria and Via di Porta Salaria (now Via Piave).\\nAll this greenery disappeared with the inevitable urbanisation of the area between the Strada Pia and the walls that followed the breach of Porta Pia; breach that, incidentally, was opened in the short portion of walls belonging to the rione.\\nThe Boncompagni had two townhouses built on the street that bears their name, one of which currently houses the Museum of Decorative Arts; the local Basilica di San Camillo de Lellis was built on the area of Villa Spithoever, as well as the smaller Chiesa del Sacro Cuore di Gesù with the adjoining convent. The palace of the Geological Museum in Largo Santa Susanna and the headquarters of the Ministry of Agriculture and Forests in Via XX Settembre were also built.\\nCurrently, the only surviving green zone is in the area just before the walls, included among Porta Pia, Via Piave and Via Augusto Valenziani: it is the garden of the old Villa Cicciaporci Valenti Gonzaga, now known as Villa Paolina (after Pauline Bonaparte, who lived there) and, since 1951, the seat of the French embassy to the Holy See.\\n\\nCoat of arms\\nAzure, mirror of Venus Erycina Or (with reference to the Horti Sallustiani).\\n\\nGeography\\nThe rione, just like the neighboring Ludovisi and Castro Pretorio, was born at the end of 19th century in an area between Via Pia (what will later become Via XX Settembre) and Via Boncompagni, which until then had been reduced to vineyards and gardens and was part of Trevi. \\nIt differs from the other rioni that developed in the same period for its much less rigid and severe road scheme, with more variations and solutions regarding the shape of the blocks and the conformation of the streets, also due to the small area that it covers.\\n\\nBoundaries\\nNorthward, the rione shares its border with Ludovisi (R. XVII): the boundary is marked by Via Friuli, Via Lucullo, Via Boncompagni, Via Calabria and Piazza Fiume.\\nEastward, the rione borders with Quartiere Salario (Q. IV), from which is separated by a stretch of the Aurelian Walls, between Piazza Fiume and Porta Pia.\\nSouthward, the rione borders with Castro Pretorio (R. XVIII), whose boundary is defined by Via XX Settembre.\\nWestward, the rione borders with Trevi (R. II), from which is separated by Largo di Santa Susanna, Via di Santa Susanna, Via Giosuè Carducci and Via Leonida Bissolati.\\n\\nLocal geography\\nIts center is the quiet Piazza Sallustio, the only real square in the rione, where the archeological remains of the Horti Sallustiani – from which it takes its name – are still visible today.\\nThe rione can be ideally divided into two parts, one among Via Piave, Via Piemonte and Via Antonio Salandra, with a moderate housing density, and the other, up to Via Leonida Bissolati, almost uninhabited and with a high concentration of offices and ministries.\\n\\nPlaces of interest\\nPalaces and other buildings\\nVillino Boncompagni Ludovisi, on Via Boncompagni.\\nPalazzo Canevari, on Largo Santa Susanna. A 19th-century liberty building (1873–81).Project by architect Raffaele Canevari; the building was the former seat of the Royal Geologic Office.Villino Casati, on Via Piemonte.\\nVillino Levi, on Via Boncompagni at the corner of Via Nerva.\\nVillino Maccari, on Via Sallustiana. A 20th-century building (1902). 41.907393°N 12.494026°E\\ufeff / 41.907393; 12.494026Project by architect Augusto Fallani commissioned by the painter Cesare Maccari.Palazzo dell\\'Agricoltura, on Via Venti Settembre. A 20th-century building (1908–1914). 41.905119°N 12.494808°E\\ufeff / 41.905119; 12.494808seat of the Ministry of Agricultural, Food and Forestry Policies.Villino Macchi di Cèllere al Sallustiano, on Via Piemonte. A 19th-century building (1887). 41.907393°N 12.494026°E\\ufeff / 41.907393; 12.494026Project by architect Carlo Pincherle commissioned by the family Macchi di Cèllere.Villino Pignatelli, on Via Boncompagni at the corner of via Piemonte.\\nVillino Rasponi, on Via Boncompagni at the corner of Via Piemonte.\\nVillino Rattazzi, on Via Boncompagni.\\nVillino Rudinì, on Via Quintino Sella, seat of the consular representative of Japan.\\nPalazzo Fiat, on Via Calabria. A 20th-century building (1924–1926) in the style called \"Barocchetto Romano\", typical of the 1920s in Rome. 41.909565°N 12.497437°E\\ufeff / 41.909565; 12.497437Project by architect Enrico Del Debbio.Palazzo della Società Beni Stabili, on Via Piemonte at the corner of Via Giosuè Carducci. A 20th-century modernist building (1957). 41.906488°N 12.494207°E\\ufeff / 41.906488; 12.494207Project by engineer Cesare Pascoletti.Villa Spithover, on Via Piemonte. A 19th-century Neo-Renaissance building (1870).Designed by architect Luca Carimini, it was demolished in the late 19th century and, in its place, the Basilica di San Camillo de Lellis was built.\\n\\nReligious buildings\\nSan Camillo de Lellis, on Via Sallustiana.\\nSanta Maria della Vittoria, on Via Venti Settembre.\\nSacro Cuore di Gesù, on Via Piave.\\n\\nArchaeological sites\\nArchaic residence from the beginning of the 6th century BC, on Largo Santa SusannaIt was discovered during archaeological excavations carried out from 2013 under Palazzo Canevari.Horti Sallustiani, on Piazza Sallustio. Gardens of the 1st century BC.\\nPorta Salaria, in the Aurelian walls. A gate built in the 3rd century.It was completely destroyed in 1921 for the opening of Via Piave on Piazza Fiume.\\n\\nMuseums\\nBoncompagni Ludovisi Decorative Art Museum.\\nMuseo storico dei bersaglieri.\\n\\nBibliography\\nCerchiai, Claudia (1990). \"RIONE XVII. SALLUSTIANO\". I Rioni e i Quartieri di Roma. Vol. 5. Rome: Newton Compton Editori.\\nRendina, Claudio; Paradisi, Donatella (2004). Le strade di Roma. Vol. 1. Rome: Newton Compton Editori. ISBN 88-541-0208-3.\\nPietrangeli, Carlo (1953). \"Insegne e stemmi dei rioni di Roma\" (PDF). Capitolium. Rassegna di attività municipali. Rome: Tumminelli - Istituto Romano di Arti Grafiche. year XXVIII (6).\\n\\nReferences\\nExternal links\\n\"Sallustiano\". RomaSegreta.\\n\"Rione Sallustiano – Photo galleries\". flickr.\\n\"The map of the rione with highlighted borders\". Google Maps.'"
      ]
     },
     "execution_count": 14,
     "metadata": {},
     "output_type": "execute_result"
    }
   ],
   "source": [
    "page_py = wiki.page('Sallustiano')\n",
    "print(\"Page - Exists: %s\" % page_py.exists())\n",
    "page_py.text"
   ]
  }
 ],
 "metadata": {
  "kernelspec": {
   "display_name": "Python 3",
   "language": "python",
   "name": "python3"
  },
  "language_info": {
   "codemirror_mode": {
    "name": "ipython",
    "version": 3
   },
   "file_extension": ".py",
   "mimetype": "text/x-python",
   "name": "python",
   "nbconvert_exporter": "python",
   "pygments_lexer": "ipython3",
   "version": "3.10.12"
  },
  "orig_nbformat": 4
 },
 "nbformat": 4,
 "nbformat_minor": 2
}
