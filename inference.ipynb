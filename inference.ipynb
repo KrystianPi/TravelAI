{
 "cells": [
  {
   "cell_type": "code",
   "execution_count": 24,
   "metadata": {},
   "outputs": [],
   "source": [
    "import configparser\n",
    "import os\n",
    "import json\n",
    "import pandas as pd\n",
    "import wikipediaapi\n",
    "import requests\n",
    "from bs4 import BeautifulSoup"
   ]
  },
  {
   "cell_type": "code",
   "execution_count": 36,
   "metadata": {},
   "outputs": [],
   "source": [
    "from langchain.llms import OpenAI\n",
    "from langchain import LLMChain\n",
    "from langchain import PromptTemplate\n",
    "from langchain.document_loaders import TextLoader"
   ]
  },
  {
   "cell_type": "code",
   "execution_count": 3,
   "metadata": {},
   "outputs": [],
   "source": [
    "config = configparser.ConfigParser()\n",
    "config.read('config.ini')\n",
    "\n",
    "# Define the API Key.\n",
    "API_KEY = config['OPENAI_API']['API_KEY']\n",
    "os.environ['OPENAI_API_KEY'] = API_KEY"
   ]
  },
  {
   "cell_type": "code",
   "execution_count": 21,
   "metadata": {},
   "outputs": [
    {
     "data": {
      "text/html": [
       "<div>\n",
       "<style scoped>\n",
       "    .dataframe tbody tr th:only-of-type {\n",
       "        vertical-align: middle;\n",
       "    }\n",
       "\n",
       "    .dataframe tbody tr th {\n",
       "        vertical-align: top;\n",
       "    }\n",
       "\n",
       "    .dataframe thead th {\n",
       "        text-align: right;\n",
       "    }\n",
       "</style>\n",
       "<table border=\"1\" class=\"dataframe\">\n",
       "  <thead>\n",
       "    <tr style=\"text-align: right;\">\n",
       "      <th></th>\n",
       "      <th>gt_id</th>\n",
       "      <th>gt_lat</th>\n",
       "      <th>gt_lon</th>\n",
       "      <th>gt_page_id</th>\n",
       "      <th>url</th>\n",
       "    </tr>\n",
       "  </thead>\n",
       "  <tbody>\n",
       "    <tr>\n",
       "      <th>0</th>\n",
       "      <td>306683262</td>\n",
       "      <td>41.884000</td>\n",
       "      <td>12.491000</td>\n",
       "      <td>48234033</td>\n",
       "      <td>http://en.wikipedia.org/?curid=48234033</td>\n",
       "    </tr>\n",
       "    <tr>\n",
       "      <th>1</th>\n",
       "      <td>306683263</td>\n",
       "      <td>41.886000</td>\n",
       "      <td>12.495000</td>\n",
       "      <td>48234033</td>\n",
       "      <td>http://en.wikipedia.org/?curid=48234033</td>\n",
       "    </tr>\n",
       "    <tr>\n",
       "      <th>2</th>\n",
       "      <td>306683264</td>\n",
       "      <td>41.891389</td>\n",
       "      <td>12.480278</td>\n",
       "      <td>48234033</td>\n",
       "      <td>http://en.wikipedia.org/?curid=48234033</td>\n",
       "    </tr>\n",
       "    <tr>\n",
       "      <th>3</th>\n",
       "      <td>306683265</td>\n",
       "      <td>41.893850</td>\n",
       "      <td>12.481940</td>\n",
       "      <td>48234033</td>\n",
       "      <td>http://en.wikipedia.org/?curid=48234033</td>\n",
       "    </tr>\n",
       "    <tr>\n",
       "      <th>4</th>\n",
       "      <td>306683266</td>\n",
       "      <td>41.907222</td>\n",
       "      <td>12.498611</td>\n",
       "      <td>48234033</td>\n",
       "      <td>http://en.wikipedia.org/?curid=48234033</td>\n",
       "    </tr>\n",
       "  </tbody>\n",
       "</table>\n",
       "</div>"
      ],
      "text/plain": [
       "       gt_id     gt_lat     gt_lon  gt_page_id  \\\n",
       "0  306683262  41.884000  12.491000    48234033   \n",
       "1  306683263  41.886000  12.495000    48234033   \n",
       "2  306683264  41.891389  12.480278    48234033   \n",
       "3  306683265  41.893850  12.481940    48234033   \n",
       "4  306683266  41.907222  12.498611    48234033   \n",
       "\n",
       "                                       url  \n",
       "0  http://en.wikipedia.org/?curid=48234033  \n",
       "1  http://en.wikipedia.org/?curid=48234033  \n",
       "2  http://en.wikipedia.org/?curid=48234033  \n",
       "3  http://en.wikipedia.org/?curid=48234033  \n",
       "4  http://en.wikipedia.org/?curid=48234033  "
      ]
     },
     "execution_count": 21,
     "metadata": {},
     "output_type": "execute_result"
    }
   ],
   "source": [
    "from sqlalchemy import create_engine\n",
    "\n",
    "# Read the MySQL configuration from the JSON file\n",
    "with open('config.json', 'r') as config_file:\n",
    "    config = json.load(config_file)\n",
    "\n",
    "# Extract MySQL connection details\n",
    "mysql_config = config.get('mysql', {})\n",
    "username = mysql_config.get('username', 'default_username')\n",
    "password = mysql_config.get('password', 'default_password')\n",
    "host = mysql_config.get('host', 'localhost')\n",
    "database_name = mysql_config.get('database_name', 'your_database')\n",
    "\n",
    "# Create the MySQL database connection string\n",
    "db_url = f\"mysql+mysqlconnector://{username}:{password}@{host}/{database_name}\"\n",
    "\n",
    "# Create an SQLAlchemy engine\n",
    "engine = create_engine(db_url)\n",
    "\n",
    "# Use the engine to connect to the database\n",
    "connection = engine.connect()\n",
    "\n",
    "# Specify the SQL query to retrieve data from a table\n",
    "query = \"SELECT * FROM rome_geo_tags\"\n",
    "\n",
    "# Use Pandas to read data from the database into a DataFrame\n",
    "df = pd.read_sql(query, connection)\n",
    "\n",
    "# Close the database connection\n",
    "connection.close()\n",
    "\n",
    "df.head()"
   ]
  },
  {
   "cell_type": "code",
   "execution_count": 23,
   "metadata": {},
   "outputs": [],
   "source": [
    "wiki = wikipediaapi.Wikipedia(user_agent=\"krystek.pietrzak@gmail.com\", language='en', extract_format=wikipediaapi.ExtractFormat.WIKI)"
   ]
  },
  {
   "cell_type": "code",
   "execution_count": 40,
   "metadata": {},
   "outputs": [],
   "source": [
    "def getText(url):\n",
    "    response = requests.get(url)\n",
    "    if response.status_code == 200:\n",
    "        soup = BeautifulSoup(response.text, 'html.parser')\n",
    "        # Extract data from the webpage and append it to scraped_data\n",
    "        title = soup.find_all('title')[0].text[:-12]\n",
    "        print(f'Title of the page: {title}')\n",
    "        \n",
    "        page_py = wiki.page(title)\n",
    "        if page_py.exists():\n",
    "            print(f\"Page ID; {page_py.pageid}\")\n",
    "        else:\n",
    "            print('Page does not exist')\n",
    "    else:\n",
    "        print(f\"Failed to fetch data from {url}\")\n",
    "    \n",
    "    with open('text.txt', 'w') as f:\n",
    "        f.write(page_py.text)\n"
   ]
  },
  {
   "cell_type": "code",
   "execution_count": 41,
   "metadata": {},
   "outputs": [
    {
     "name": "stdout",
     "output_type": "stream",
     "text": [
      "Title of the page: Line B (Rome Metro)\n",
      "Page ID; 20974602\n"
     ]
    }
   ],
   "source": [
    "getText(df.iloc[766]['url'])"
   ]
  },
  {
   "cell_type": "code",
   "execution_count": 42,
   "metadata": {},
   "outputs": [],
   "source": [
    "# Document Loader\n",
    "loader = TextLoader('text.txt')\n",
    "documents = loader.load()"
   ]
  },
  {
   "cell_type": "code",
   "execution_count": 43,
   "metadata": {},
   "outputs": [],
   "source": [
    "import textwrap\n",
    "\n",
    "def wrap_text_preserve_newlines(text, width=110):\n",
    "    # Split the input text into lines based on newline characters\n",
    "    lines = text.split('\\n')\n",
    "\n",
    "    # Wrap each line individually\n",
    "    wrapped_lines = [textwrap.fill(line, width=width) for line in lines]\n",
    "\n",
    "    # Join the wrapped lines back together using newline characters\n",
    "    wrapped_text = '\\n'.join(wrapped_lines)\n",
    "\n",
    "    return wrapped_text"
   ]
  },
  {
   "cell_type": "code",
   "execution_count": 44,
   "metadata": {},
   "outputs": [
    {
     "name": "stdout",
     "output_type": "stream",
     "text": [
      "page_content=\"Line B is a metro line serving Rome, Italy, and part of the Rome Metro. Despite its name, Line B\n",
      "was the first line to be built in the city. It crosses Rome diagonally from north-east, starting at Rebibbia\n",
      "and at Jonio stations, to south, terminating at Laurentina, in the EUR district. It crosses Line A at Termini\n",
      "station. The line has 26 stations and is shown in blue on Metro maps.\\n\\nOverview\\nIts first service runs at\n",
      "05:30 and its last at 23:30. From 18 January 2008, the last Friday and Saturday service runs at 1:30. It\n",
      "carries 345,000 passengers a day and runs 377 trains a day, with a peak time frequency of one train every 3\n",
      "minutes in the shared section and 4,5 minutes in the branches. Every 6 minutes at other times, at a maximum\n",
      "frequency of 9 minutes at the most off-peak times.\\n\\nHistory\\nDespite its name, Line B was the first metro\n",
      "line in Rome.  The line was planned during the 1930s by the Fascist government in search of a rapid connection\n",
      "between the main train station, Termini, and a new district to the south-east of the city, E42, the planned\n",
      "location of the Universal Exposition (or Expo), which was to be held in Rome in 1942. The exposition never\n",
      "took place due to Italy's entrance into World War II in 1940. When work was interrupted some of the tunnels on\n",
      "the city-centre side of the metro (between Termini and Piramide) had been completed and were used as air raid\n",
      "shelters during the war.\\nWork on the metro began again in 1948, in concert with turning the space, formerly\n",
      "designated for the Expo, into a commercial district under the name Esposizione Universale Roma (EUR). The line\n",
      "was officially opened on 9 February 1955 by the President of the Republic Luigi Einaudi. Regular services\n",
      "began on the following day.When the new east–west line began service in 1980 from Anagnina to Ottaviano, it\n",
      "was named Line A, while the existing Termini-Laurentina line was renamed Line B.\\nIn 1990, Line B was extended\n",
      "from Termini to Rebibbia to the east of the city, and the entire line was modernised. A spur called B1 opened\n",
      "on 13 June 2012. It is a branch of Line B from Bologna to Jonio with 4 stations: Sant'Agnese/Annibaliano,\n",
      "Libia, Conca d'Oro, and the branch's new terminus at Jonio, opened on 21 April 2015).\\nLine B has 26 stations\n",
      "with terminuses at Rebibbia, Jonio and Laurentina (just east of EUR).\\n\\nOpening dates\\n9 February 1955:\n",
      "Termini – Laurentina\\n8 December 1990: Termini – Rebibbia\\n13 June 2012: Bologna – Conca d'Oro (B1)\\n21 April\n",
      "2015: Conca d'Oro – Jonio (B1)\\n\\nExtensions\\nAfter the recently opened B1 line, there have been plans for an\n",
      "extension beyond Jonio (and then to Bufalotta).\\nAnother future extension has been planned beyond Rebibbia\n",
      "with two stations: San Basilio and Torraccia/Casal Monastero.\\n\\nRolling stock\\nWhen the B line opened in\n",
      "1955, MR100 and MR200 trains (also collectively known as Automotrice Stanga-TIBB) were used, and were\n",
      "transferred to the Rome-Lido railway in 1987, replaced by Series MB100 trains introduced in the same year, not\n",
      "only to replace the ageing MR100 and MR200 trains but also to cope with an increase in passengers following\n",
      "the opening of the eastward extension to Rebibbia.\\nA fleet of trains identical to the MB100 trains were also\n",
      "built for the Lima Metro in Peru.\\nSince 2010, Line B has also uses the newer CAF MA300 and from 2014, MB400\n",
      "Series trains similar to those on the Line A.\\n\\nNotes\\nExternal links\\n Media related to Line B (Rome metro)\n",
      "at Wikimedia Commons\" metadata={'source': 'text.txt'}\n"
     ]
    }
   ],
   "source": [
    "print(wrap_text_preserve_newlines(str(documents[0])))"
   ]
  },
  {
   "cell_type": "code",
   "execution_count": 45,
   "metadata": {},
   "outputs": [
    {
     "name": "stderr",
     "output_type": "stream",
     "text": [
      "Created a chunk of size 1537, which is longer than the specified 1000\n"
     ]
    }
   ],
   "source": [
    "# Text Splitter\n",
    "from langchain.text_splitter import CharacterTextSplitter\n",
    "text_splitter = CharacterTextSplitter(chunk_size=1000, chunk_overlap=0)\n",
    "docs = text_splitter.split_documents(documents)"
   ]
  },
  {
   "cell_type": "code",
   "execution_count": 46,
   "metadata": {},
   "outputs": [
    {
     "data": {
      "text/plain": [
       "4"
      ]
     },
     "execution_count": 46,
     "metadata": {},
     "output_type": "execute_result"
    }
   ],
   "source": [
    "len(docs)"
   ]
  }
 ],
 "metadata": {
  "kernelspec": {
   "display_name": "Python 3",
   "language": "python",
   "name": "python3"
  },
  "language_info": {
   "codemirror_mode": {
    "name": "ipython",
    "version": 3
   },
   "file_extension": ".py",
   "mimetype": "text/x-python",
   "name": "python",
   "nbconvert_exporter": "python",
   "pygments_lexer": "ipython3",
   "version": "3.10.12"
  },
  "orig_nbformat": 4
 },
 "nbformat": 4,
 "nbformat_minor": 2
}
